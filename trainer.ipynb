{
 "cells": [
  {
   "cell_type": "code",
   "execution_count": 1,
   "metadata": {},
   "outputs": [],
   "source": [
    "from blackjack import *\n",
    "import matplotlib.pyplot as plt"
   ]
  },
  {
   "cell_type": "code",
   "execution_count": null,
   "metadata": {},
   "outputs": [],
   "source": [
    "game = Blackjack()\n",
    "reward_history, tracked_q = game.train(epochs=10000000, \n",
    "                                       alpha = 0.001, \n",
    "                                       track_states = [(\"stick\", 20, 5, False),(\"stick\", 16, 10, False), (\"hit\", 16, 10, False)]\n",
    "                                       )\n",
    "\n",
    "moving_average_reward = game.moving_average_reward(reward_history, 100000)\n",
    "plt.plot(moving_average_reward)"
   ]
  },
  {
   "cell_type": "code",
   "execution_count": null,
   "metadata": {},
   "outputs": [],
   "source": [
    "import matplotlib.pyplot as plt\n",
    "moving_average_reward = game.moving_average_reward(reward_history, 100000)\n",
    "plt.plot(moving_average_reward)"
   ]
  },
  {
   "cell_type": "code",
   "execution_count": null,
   "metadata": {},
   "outputs": [],
   "source": [
    "plt.plot(tracked_q[0], label = \"stick, 20, 5, False\")\n",
    "plt.plot(tracked_q[1], label = \"stick, 16, 10, False\")\n",
    "plt.plot(tracked_q[2], label = \"hit, 16, 10, False\")\n",
    "plt.legend(loc=\"upper left\")\n",
    "plt.show()"
   ]
  },
  {
   "cell_type": "code",
   "execution_count": null,
   "metadata": {},
   "outputs": [],
   "source": []
  }
 ],
 "metadata": {
  "kernelspec": {
   "display_name": "Python 3",
   "language": "python",
   "name": "python3"
  },
  "language_info": {
   "codemirror_mode": {
    "name": "ipython",
    "version": 3
   },
   "file_extension": ".py",
   "mimetype": "text/x-python",
   "name": "python",
   "nbconvert_exporter": "python",
   "pygments_lexer": "ipython3",
   "version": "3.10.12"
  }
 },
 "nbformat": 4,
 "nbformat_minor": 2
}
